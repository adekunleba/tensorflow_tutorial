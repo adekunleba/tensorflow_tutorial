{
  "nbformat": 4,
  "nbformat_minor": 0,
  "metadata": {
    "colab": {
      "name": "IntroductiontoTensorflowOperations.ipynb",
      "version": "0.3.2",
      "provenance": [],
      "include_colab_link": true
    },
    "kernelspec": {
      "name": "python3",
      "display_name": "Python 3"
    }
  },
  "cells": [
    {
      "cell_type": "markdown",
      "metadata": {
        "id": "view-in-github",
        "colab_type": "text"
      },
      "source": [
        "<a href=\"https://colab.research.google.com/github/adekunleba/tensorflow_tutorial/blob/master/IntroductiontoTensorflowOperations.ipynb\" target=\"_parent\"><img src=\"https://colab.research.google.com/assets/colab-badge.svg\" alt=\"Open In Colab\"/></a>"
      ]
    },
    {
      "metadata": {
        "id": "-V7PWF21l0IX",
        "colab_type": "text"
      },
      "cell_type": "markdown",
      "source": [
        "### About Tensorflow\n",
        "\n",
        "*Assumptions:*\n",
        " - Good Python background\n",
        " - Good knowledge of Machine learning\n",
        " - Little understanding of Neural Networks\n",
        " \n",
        " \n",
        " Tensorflow is a **software library** for machine Intelligence. This means it's a library that allows you to build artificial intelligence projects easily.\n",
        " \n",
        " \n",
        " What Artificial Intelligence projects entails - it entails a lot of deep mathematical computation. To merge the tensorflow as a library to Artificial Intelligence, Tensorflow has been described as an Open source software library for **numerical computation** using data flow graphs.\n",
        " \n",
        " \n",
        " Initially, Tensorflow requires you to build a graph first, then execute a graph in a Session, howevever, Tensorflow has upgraded to a state where the graph  building has been abstracted, hence, the defacto for Tensorflow is to use the Eager Execution mode, where you don't have to build a graph and execute in seperate code build up.\n",
        "\n",
        "\n",
        "Tensorflow computation is based on computation on Tensors. Tensors are in short multi-dimensional Arrays.\n",
        "\n",
        "Tensorflow programs use a data structure called Tensor to represent all of the data.\n",
        "\n",
        "Because of the way numerical computation for Artificial Intelligence models are represented, Tensoflow leverages the use of Graph to express the computations i.e All numerical computations are expressed as computational graph.\n",
        "\n",
        "![alt text](https://drive.google.com/open?id=10OdVIzD3AKVf-4AWWpzDGMdm-ycoCQM9)"
      ]
    },
    {
      "metadata": {
        "id": "MqnXnh1WoeHU",
        "colab_type": "text"
      },
      "cell_type": "markdown",
      "source": [
        "### Starting with the Eager Execution mode in Tensorflow"
      ]
    },
    {
      "metadata": {
        "id": "PEnPQSYElvYO",
        "colab_type": "code",
        "colab": {}
      },
      "cell_type": "code",
      "source": [
        "import tensorflow as tf\n",
        "tf.enable_eager_execution()"
      ],
      "execution_count": 0,
      "outputs": []
    },
    {
      "metadata": {
        "id": "JxV_8gm9tJ5v",
        "colab_type": "text"
      },
      "cell_type": "markdown",
      "source": [
        "With the Eager Execution we can use Tensorflow to do some basic Mathematics similar to what we have with Numpy."
      ]
    },
    {
      "metadata": {
        "id": "5Ww09xXtr7z-",
        "colab_type": "code",
        "outputId": "c063983d-a9d9-41e5-e015-e04da51213ba",
        "colab": {
          "base_uri": "https://localhost:8080/",
          "height": 50
        }
      },
      "cell_type": "code",
      "source": [
        "#Add 2-Scalar Entitites\n",
        "\n",
        "print(tf.add(1, 2))\n",
        "\n",
        "\n",
        "#Multiply 2-Scalar Entities\n",
        "print(tf.multiply(2, 3))"
      ],
      "execution_count": 0,
      "outputs": [
        {
          "output_type": "stream",
          "text": [
            "tf.Tensor(3, shape=(), dtype=int32)\n",
            "tf.Tensor(6, shape=(), dtype=int32)\n"
          ],
          "name": "stdout"
        }
      ]
    },
    {
      "metadata": {
        "id": "nATc-OxMtEdp",
        "colab_type": "code",
        "outputId": "1df0fe23-7559-4f89-9c10-46c0a2ad1367",
        "colab": {
          "base_uri": "https://localhost:8080/",
          "height": 118
        }
      },
      "cell_type": "code",
      "source": [
        "#Add 2-D Vector Entities\n",
        "\n",
        "print(tf.add([[1, 2], \n",
        "              [2, 3]], [[5, 4],\n",
        "                        [6, 7]]))\n",
        "\n",
        "#Multiply 2-D Vector Entities\n",
        "\n",
        "print(tf.multiply([[1, 2], \n",
        "                   [2, 3]], [[5, 4],\n",
        "                            [6, 7]]))"
      ],
      "execution_count": 0,
      "outputs": [
        {
          "output_type": "stream",
          "text": [
            "tf.Tensor(\n",
            "[[ 6  6]\n",
            " [ 8 10]], shape=(2, 2), dtype=int32)\n",
            "tf.Tensor(\n",
            "[[ 5  8]\n",
            " [12 21]], shape=(2, 2), dtype=int32)\n"
          ],
          "name": "stdout"
        }
      ]
    },
    {
      "metadata": {
        "id": "zAgmYN3rxSoL",
        "colab_type": "text"
      },
      "cell_type": "markdown",
      "source": [
        "### Some other Basic Mathematical Operations with Tensorflow"
      ]
    },
    {
      "metadata": {
        "id": "51pz2m5ZuQZa",
        "colab_type": "code",
        "outputId": "d99b3cce-e604-4733-d0a2-2cebe22e5560",
        "colab": {
          "base_uri": "https://localhost:8080/",
          "height": 84
        }
      },
      "cell_type": "code",
      "source": [
        "#Square a scalar and Vector\n",
        "print(tf.square(10))\n",
        "print(tf.square([[2, 3], [5,4]]))"
      ],
      "execution_count": 0,
      "outputs": [
        {
          "output_type": "stream",
          "text": [
            "tf.Tensor(100, shape=(), dtype=int32)\n",
            "tf.Tensor(\n",
            "[[ 4  9]\n",
            " [25 16]], shape=(2, 2), dtype=int32)\n"
          ],
          "name": "stdout"
        }
      ]
    },
    {
      "metadata": {
        "id": "dBqiaKrAurH-",
        "colab_type": "code",
        "outputId": "e44c913f-3cbe-4713-de9f-f2954cd49d09",
        "colab": {
          "base_uri": "https://localhost:8080/",
          "height": 50
        }
      },
      "cell_type": "code",
      "source": [
        "#Get the mean of 1-D and 2-D array of Number\n",
        "print(tf.reduce_mean([1, 2, 3, 4, 5, 6, 7, 7,8 , 6, 6, 3, 2, 2]))\n",
        "\n",
        "print(tf.reduce_mean([[10, 10, 3], \n",
        "                      [40, 5, 6], \n",
        "                      [5, 6, 6]], axis=0, keepdims=True))"
      ],
      "execution_count": 0,
      "outputs": [
        {
          "output_type": "stream",
          "text": [
            "tf.Tensor(4, shape=(), dtype=int32)\n",
            "tf.Tensor([[18  7  5]], shape=(1, 3), dtype=int32)\n"
          ],
          "name": "stdout"
        }
      ]
    },
    {
      "metadata": {
        "id": "3Ew9kuGzuPQF",
        "colab_type": "code",
        "outputId": "6b68f47d-1cc9-4a17-be62-1211014c811c",
        "colab": {
          "base_uri": "https://localhost:8080/",
          "height": 101
        }
      },
      "cell_type": "code",
      "source": [
        "#Get the minimum value in a 1-D Array\n",
        "print(tf.reduce_min([1, 2, 3, 4, 5, 6, 7, 7,8 , 6, 6, 3, 2, 2]))\n",
        "\n",
        "\n",
        "#Get the minimum value in a 2-D Tensor along a particular axis\n",
        "print(tf.reduce_min([[10, 10, 3], \n",
        "                     [40, 5, 6], \n",
        "                     [5, 6, 6]], axis=1, keepdims=True))"
      ],
      "execution_count": 0,
      "outputs": [
        {
          "output_type": "stream",
          "text": [
            "tf.Tensor(1, shape=(), dtype=int32)\n",
            "tf.Tensor(\n",
            "[[3]\n",
            " [5]\n",
            " [5]], shape=(3, 1), dtype=int32)\n"
          ],
          "name": "stdout"
        }
      ]
    },
    {
      "metadata": {
        "id": "_3gGSmKSxmRF",
        "colab_type": "code",
        "outputId": "8c850619-190e-4989-a91f-a35515debda9",
        "colab": {
          "base_uri": "https://localhost:8080/",
          "height": 168
        }
      },
      "cell_type": "code",
      "source": [
        "#Generating Random Numbers \n",
        "\n",
        "x = tf.random_uniform([4, 4])\n",
        "print(x)\n",
        "\n",
        "\n",
        "#Creating Tensor Constants in Eager Execution\n",
        "y = tf.constant([[10, 10, 3], \n",
        "                     [40, 5, 6], \n",
        "                     [5, 6, 6]])\n",
        "\n",
        "print(y)"
      ],
      "execution_count": 0,
      "outputs": [
        {
          "output_type": "stream",
          "text": [
            "tf.Tensor(\n",
            "[[0.5771668  0.8151798  0.8233317  0.09823287]\n",
            " [0.03514731 0.77169764 0.5021397  0.93847215]\n",
            " [0.37982666 0.96519697 0.22838175 0.7515241 ]\n",
            " [0.12786257 0.5004227  0.74379385 0.11298704]], shape=(4, 4), dtype=float32)\n",
            "tf.Tensor(\n",
            "[[10 10  3]\n",
            " [40  5  6]\n",
            " [ 5  6  6]], shape=(3, 3), dtype=int32)\n"
          ],
          "name": "stdout"
        }
      ]
    },
    {
      "metadata": {
        "id": "mnXulyXz0ceo",
        "colab_type": "code",
        "outputId": "a45a6f09-54b4-4759-b07f-44f295588162",
        "colab": {
          "base_uri": "https://localhost:8080/",
          "height": 101
        }
      },
      "cell_type": "code",
      "source": [
        "#Calculate Sigmoid of an Array of Numbers\n",
        "\n",
        "sig = tf.sigmoid(x)\n",
        "\n",
        "print(sig)"
      ],
      "execution_count": 0,
      "outputs": [
        {
          "output_type": "stream",
          "text": [
            "tf.Tensor(\n",
            "[[0.6404152  0.6932122  0.6949431  0.52453846]\n",
            " [0.5087859  0.683888   0.62296206 0.71879095]\n",
            " [0.5938313  0.72416115 0.5568485  0.6795107 ]\n",
            " [0.53192216 0.62255865 0.6778249  0.5282167 ]], shape=(4, 4), dtype=float32)\n"
          ],
          "name": "stdout"
        }
      ]
    },
    {
      "metadata": {
        "id": "hEsYUkZMvrwU",
        "colab_type": "code",
        "colab": {}
      },
      "cell_type": "code",
      "source": [
        "print(tf.test.is_gpu_available())\n"
      ],
      "execution_count": 0,
      "outputs": []
    }
  ]
}