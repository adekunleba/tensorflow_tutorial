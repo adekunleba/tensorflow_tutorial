{
  "nbformat": 4,
  "nbformat_minor": 0,
  "metadata": {
    "colab": {
      "name": "Linear Regression with Tensorflow.ipynb",
      "version": "0.3.2",
      "provenance": [],
      "include_colab_link": true
    },
    "kernelspec": {
      "name": "python3",
      "display_name": "Python 3"
    }
  },
  "cells": [
    {
      "cell_type": "markdown",
      "metadata": {
        "id": "view-in-github",
        "colab_type": "text"
      },
      "source": [
        "<a href=\"https://colab.research.google.com/github/adekunleba/tensorflow_tutorial/blob/master/Linear_Regression_with_Tensorflow.ipynb\" target=\"_parent\"><img src=\"https://colab.research.google.com/assets/colab-badge.svg\" alt=\"Open In Colab\"/></a>"
      ]
    },
    {
      "metadata": {
        "id": "jYwO1Zxewa7P",
        "colab_type": "text"
      },
      "cell_type": "markdown",
      "source": [
        "### Linear Regression with Tensorflow Eeager Execution"
      ]
    },
    {
      "metadata": {
        "id": "Pua_Hxx0t1-u",
        "colab_type": "code",
        "colab": {}
      },
      "cell_type": "code",
      "source": [
        "import tensorflow as tf\n",
        "tf.enable_eager_execution()"
      ],
      "execution_count": 0,
      "outputs": []
    },
    {
      "metadata": {
        "id": "waXIGL-Cxc_P",
        "colab_type": "text"
      },
      "cell_type": "markdown",
      "source": [
        "Every machine learning model application starts with establishing the data, we can make use of a synthetic data as a starting point.\n",
        "\n",
        "Also, we will also train a model on one other real data, the aim is to show the numerical computation capacity of Tensorflow."
      ]
    },
    {
      "metadata": {
        "id": "9o7yuCb1xcG-",
        "colab_type": "code",
        "colab": {}
      },
      "cell_type": "code",
      "source": [
        "def make_synthetic_data(w, b, noise_level, batch_size, num_batches):\n",
        "  def batch(_):\n",
        "    x = tf.random_normal(shape=[batch_size, tf.shape(w)[0]])\n",
        "    y = tf.matmul(x, w) + b + noise_level + tf.random_normal([])\n",
        "    return x, y\n",
        "  \n",
        "  \n",
        "  #Use Cpu to do this\n",
        "  with tf.device(\"/device:CPU:0\"):\n",
        "    return tf.data.Dataset.range(num_batches).map(batch)"
      ],
      "execution_count": 0,
      "outputs": []
    },
    {
      "metadata": {
        "id": "zyJ0bPfEOXSD",
        "colab_type": "text"
      },
      "cell_type": "markdown",
      "source": [
        "Make a synthetic data using the `make_synthetic_data` function, following this, you give a base weight and bias value for you model to be optimized on.\n",
        "\n"
      ]
    },
    {
      "metadata": {
        "id": "ot_bzQU9xT5Z",
        "colab_type": "code",
        "colab": {}
      },
      "cell_type": "code",
      "source": [
        "true_w = [[-2.0], [4.0], [1.0]]\n",
        "true_b = [0.5]\n",
        "noise_level = 0.01\n",
        "\n",
        "# Training constants.\n",
        "batch_size = 64\n",
        "learning_rate = 0.1 \n",
        "\n",
        "\n",
        "\n",
        "\n",
        "data = make_synthetic_data(true_w, true_b, noise_level, batch_size, 20)"
      ],
      "execution_count": 0,
      "outputs": []
    },
    {
      "metadata": {
        "id": "w9L3WJOKRsdU",
        "colab_type": "code",
        "colab": {}
      },
      "cell_type": "code",
      "source": [
        "layers = tf.keras.layers\n",
        "\n",
        "\n",
        "model = layers.Dense(1)"
      ],
      "execution_count": 0,
      "outputs": []
    },
    {
      "metadata": {
        "id": "6YMPo8KmUAQp",
        "colab_type": "code",
        "colab": {}
      },
      "cell_type": "code",
      "source": [
        "mse = lambda xs, ys: tf.reduce_mean(tf.square(tf.subtract(model(xs), ys)))"
      ],
      "execution_count": 0,
      "outputs": []
    },
    {
      "metadata": {
        "id": "fPmQs9jpPB6c",
        "colab_type": "text"
      },
      "cell_type": "markdown",
      "source": [
        "Using `implicit_value_and_gradient` to generate a gradient function. Basically, the function takes another function as input, the input function is usually a computation that needs to undergo differentiation, say for example a *loss function*. \n",
        "\n",
        "`impliit_value_and_gradient` returns the values and gradient obtained upon differentiating an input function.\n",
        "\n",
        "A possible replacement for the `mse lambda function` above will be something like this.\n",
        "\n",
        "\n",
        "```python\n",
        "\n",
        "def loss(xs, ys):\n",
        "  return tf.reduce_mean(tf.square(tf.subtract(model(xs), ys)))\n",
        " ```"
      ]
    },
    {
      "metadata": {
        "id": "RKvjj7ooUaIW",
        "colab_type": "code",
        "colab": {}
      },
      "cell_type": "code",
      "source": [
        "tfe = tf.contrib.eager\n",
        "loss_and_grads = tfe.implicit_value_and_gradients(f=mse)"
      ],
      "execution_count": 0,
      "outputs": []
    },
    {
      "metadata": {
        "id": "6ml0i_CuRxYg",
        "colab_type": "text"
      },
      "cell_type": "markdown",
      "source": [
        "Optimizer is what helps to shape the model to it's optimum values by comparing the loss upon every forward pass through the network and updating the model parameters accordingly.\n",
        "\n",
        "One key thing to note is how loss functions and optimizers work together to give the best possible model. The results from the loss functions helps the  optimization algorithm makes it's decision on how to change the various parameter to tend it towards the most accurate.\n",
        "\n",
        "Usually depicted with the hiker's approach to find the lowest loss.\n",
        "\n",
        "Hence you can start to thing of algorithms such as `gradient descent` in it's various forms i.e `stochastic` and `mini-batch`, others like `Adagrad`, `RMSprop` and `Adam` optimizers."
      ]
    },
    {
      "metadata": {
        "id": "v6N_1mbCaA3g",
        "colab_type": "code",
        "colab": {}
      },
      "cell_type": "code",
      "source": [
        "#Build Optimizer\n",
        "\n",
        "optimizer = tf.train.GradientDescentOptimizer(learning_rate)"
      ],
      "execution_count": 0,
      "outputs": []
    },
    {
      "metadata": {
        "id": "17s9G1puZk0e",
        "colab_type": "code",
        "colab": {
          "base_uri": "https://localhost:8080/",
          "height": 353
        },
        "outputId": "445984fd-f8bf-43cd-fa6a-0a9a453553ef"
      },
      "cell_type": "code",
      "source": [
        "for i, (xs, ys) in enumerate(tfe.Iterator(data)):\n",
        "  loss, grads = loss_and_grads(xs, ys)\n",
        "  print(\"Iteration %d: loss = %s\" % (i, loss.numpy()))\n",
        "  \n",
        "  optimizer.apply_gradients(grads)"
      ],
      "execution_count": 18,
      "outputs": [
        {
          "output_type": "stream",
          "text": [
            "Iteration 0: loss = 0.012276158\n",
            "Iteration 1: loss = 1.3846912\n",
            "Iteration 2: loss = 1.4105175\n",
            "Iteration 3: loss = 3.8955734\n",
            "Iteration 4: loss = 1.3235943\n",
            "Iteration 5: loss = 0.6242147\n",
            "Iteration 6: loss = 9.265179\n",
            "Iteration 7: loss = 0.25800404\n",
            "Iteration 8: loss = 1.9951952\n",
            "Iteration 9: loss = 0.12314553\n",
            "Iteration 10: loss = 0.022672202\n",
            "Iteration 11: loss = 1.4626617\n",
            "Iteration 12: loss = 1.3957796\n",
            "Iteration 13: loss = 0.18669194\n",
            "Iteration 14: loss = 1.3810966\n",
            "Iteration 15: loss = 1.3330611\n",
            "Iteration 16: loss = 0.0899497\n",
            "Iteration 17: loss = 3.8049889\n",
            "Iteration 18: loss = 0.075343676\n",
            "Iteration 19: loss = 0.003151669\n"
          ],
          "name": "stdout"
        }
      ]
    },
    {
      "metadata": {
        "id": "nxY6CGtLNo79",
        "colab_type": "code",
        "colab": {
          "base_uri": "https://localhost:8080/",
          "height": 118
        },
        "outputId": "60799ce4-6d12-485a-bc36-6b03c500c6a0"
      },
      "cell_type": "code",
      "source": [
        "print(\"Model Weight After Training \\n {}\".format(model.variables[0].numpy()))\n",
        "\n",
        "print(\"Model Bias After Training \\n {}\".format(model.variables[1].numpy()))"
      ],
      "execution_count": 14,
      "outputs": [
        {
          "output_type": "stream",
          "text": [
            "Model Weight After Training \n",
            " [[-1.9550428]\n",
            " [ 3.9777613]\n",
            " [ 1.0399177]]\n",
            "Model Bias After Training \n",
            " [1.1815848]\n"
          ],
          "name": "stdout"
        }
      ]
    },
    {
      "metadata": {
        "id": "K3C4YmGU07NL",
        "colab_type": "text"
      },
      "cell_type": "markdown",
      "source": [
        "***This is a later approach - Do functional approach first***\n",
        "\n",
        "Since tensorflow uses keras model out of the box, hence our model will use the keras way of building custom models.\n",
        "\n",
        "Hence we can structure our codes in a more organized approach.\n",
        "\n",
        "\n",
        "There are basic 3 components for your custom model when using Tensorflow Eager Execution:\n",
        "\n",
        "\n",
        "* init Method: Define your various networks.\n",
        "* call method: Invokes the model, this is where the layer logic all resides. Most times, the sequential approach to modelling Keras models actually happen here.\n",
        "* fit method: Method fit assembled model on data.\n",
        "* predict method: Method predicts on new data.\n",
        "\n",
        "***Other Utility Functions***\n",
        "\n",
        "* Save model method\n",
        "* compute_accuracy\n",
        "* restore_model\n"
      ]
    },
    {
      "metadata": {
        "id": "G9Cdecc8zk3J",
        "colab_type": "code",
        "colab": {}
      },
      "cell_type": "code",
      "source": [
        "class LinearRegressionModel(tf.keras.Model):\n",
        "  \n",
        "  def __init__(self):\n",
        "    super(LinearModel, self).__init__()\n",
        "    \n",
        "    #Construct a single dense layer which is actually a linear layer.\n",
        "    self._layer = layes.Dense(1) #Creates model as seen above\n",
        "    \n",
        "    \n",
        "  def call(self, xs):\n",
        "    \n",
        "    return self._layer(xs) # check up it's same thing as model(xs)"
      ],
      "execution_count": 0,
      "outputs": []
    },
    {
      "metadata": {
        "id": "vC0VcCI20nHY",
        "colab_type": "code",
        "colab": {}
      },
      "cell_type": "code",
      "source": [
        ""
      ],
      "execution_count": 0,
      "outputs": []
    }
  ]
}