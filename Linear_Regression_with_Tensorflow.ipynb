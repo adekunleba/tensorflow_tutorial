{
  "nbformat": 4,
  "nbformat_minor": 0,
  "metadata": {
    "colab": {
      "name": "Linear Regression with Tensorflow.ipynb",
      "version": "0.3.2",
      "provenance": [],
      "collapsed_sections": [],
      "include_colab_link": true
    },
    "kernelspec": {
      "name": "python3",
      "display_name": "Python 3"
    }
  },
  "cells": [
    {
      "cell_type": "markdown",
      "metadata": {
        "id": "view-in-github",
        "colab_type": "text"
      },
      "source": [
        "<a href=\"https://colab.research.google.com/github/adekunleba/tensorflow_tutorial/blob/master/Linear_Regression_with_Tensorflow.ipynb\" target=\"_parent\"><img src=\"https://colab.research.google.com/assets/colab-badge.svg\" alt=\"Open In Colab\"/></a>"
      ]
    },
    {
      "metadata": {
        "id": "jYwO1Zxewa7P",
        "colab_type": "text"
      },
      "cell_type": "markdown",
      "source": [
        "### Linear Regression with Tensorflow Eeager Execution"
      ]
    },
    {
      "metadata": {
        "id": "Pua_Hxx0t1-u",
        "colab_type": "code",
        "colab": {}
      },
      "cell_type": "code",
      "source": [
        "import tensorflow as tf\n",
        "tf.enable_eager_execution()"
      ],
      "execution_count": 0,
      "outputs": []
    },
    {
      "metadata": {
        "id": "waXIGL-Cxc_P",
        "colab_type": "text"
      },
      "cell_type": "markdown",
      "source": [
        "Every machine learning model application starts with establishing the data, we can make use of a synthetic data as a starting point.\n",
        "\n",
        "Also, we will also train a model on one other real data, the aim is to show the numerical computation capacity of Tensorflow."
      ]
    },
    {
      "metadata": {
        "id": "9o7yuCb1xcG-",
        "colab_type": "code",
        "colab": {}
      },
      "cell_type": "code",
      "source": [
        "def make_synthetic_data(w, b, noise_level, batch_size, num_batches):\n",
        "  def batch(_):\n",
        "    x = tf.random_normal(shape=[batch_size, tf.shape(w)[0]])\n",
        "    y = tf.matmul(x, w) + b + noise_level + tf.random_normal([])\n",
        "    return x, y\n",
        "  \n",
        "  \n",
        "  #Use Cpu to do this\n",
        "  with tf.device(\"/device:CPU:0\"):\n",
        "    return tf.data.Dataset.range(num_batches).map(batch)"
      ],
      "execution_count": 0,
      "outputs": []
    },
    {
      "metadata": {
        "id": "zyJ0bPfEOXSD",
        "colab_type": "text"
      },
      "cell_type": "markdown",
      "source": [
        "Make a synthetic data using the `make_synthetic_data` function, following this, you give a base weight and bias value for you model to be optimized on.\n",
        "\n"
      ]
    },
    {
      "metadata": {
        "id": "ot_bzQU9xT5Z",
        "colab_type": "code",
        "colab": {}
      },
      "cell_type": "code",
      "source": [
        "true_w = [[-2.0], [4.0], [1.0]]\n",
        "true_b = [0.5]\n",
        "noise_level = 0.01\n",
        "\n",
        "# Training constants.\n",
        "batch_size = 64\n",
        "learning_rate = 0.1 \n",
        "\n",
        "\n",
        "\n",
        "\n",
        "data = make_synthetic_data(true_w, true_b, noise_level, batch_size, 20)"
      ],
      "execution_count": 0,
      "outputs": []
    },
    {
      "metadata": {
        "id": "w9L3WJOKRsdU",
        "colab_type": "code",
        "colab": {}
      },
      "cell_type": "code",
      "source": [
        "layers = tf.keras.layers\n",
        "\n",
        "\n",
        "model = layers.Dense(1)"
      ],
      "execution_count": 0,
      "outputs": []
    },
    {
      "metadata": {
        "id": "6YMPo8KmUAQp",
        "colab_type": "code",
        "colab": {}
      },
      "cell_type": "code",
      "source": [
        "mse = lambda xs, ys: tf.reduce_mean(tf.square(tf.subtract(model(xs), ys)))"
      ],
      "execution_count": 0,
      "outputs": []
    },
    {
      "metadata": {
        "id": "fPmQs9jpPB6c",
        "colab_type": "text"
      },
      "cell_type": "markdown",
      "source": [
        "Using `implicit_value_and_gradient` to generate a gradient function. Basically, the function takes another function as input, the input function is usually a computation that needs to undergo differentiation, say for example a *loss function*. \n",
        "\n",
        "`impliit_value_and_gradient` returns the values and gradient obtained upon differentiating an input function.\n",
        "\n",
        "A possible replacement for the `mse lambda function` above will be something like this.\n",
        "\n",
        "\n",
        "```python\n",
        "\n",
        "def loss(xs, ys):\n",
        "  return tf.reduce_mean(tf.square(tf.subtract(model(xs), ys)))\n",
        " ```"
      ]
    },
    {
      "metadata": {
        "id": "RKvjj7ooUaIW",
        "colab_type": "code",
        "colab": {}
      },
      "cell_type": "code",
      "source": [
        "tfe = tf.contrib.eager\n",
        "loss_and_grads = tfe.implicit_value_and_gradients(f=mse)"
      ],
      "execution_count": 0,
      "outputs": []
    },
    {
      "metadata": {
        "id": "6ml0i_CuRxYg",
        "colab_type": "text"
      },
      "cell_type": "markdown",
      "source": [
        "Optimizer is what helps to shape the model to it's optimum values by comparing the loss upon every forward pass through the network and updating the model parameters accordingly.\n",
        "\n",
        "One key thing to note is how loss functions and optimizers work together to give the best possible model. The results from the loss functions helps the  optimization algorithm makes it's decision on how to change the various parameter to tend it towards the most accurate.\n",
        "\n",
        "Usually depicted with the hiker's approach to find the lowest loss.\n",
        "\n",
        "Hence you can start to thing of algorithms such as `gradient descent` in it's various forms i.e `stochastic` and `mini-batch`, others like `Adagrad`, `RMSprop` and `Adam` optimizers."
      ]
    },
    {
      "metadata": {
        "id": "v6N_1mbCaA3g",
        "colab_type": "code",
        "colab": {}
      },
      "cell_type": "code",
      "source": [
        "#Build Optimizer\n",
        "\n",
        "optimizer = tf.train.GradientDescentOptimizer(learning_rate)"
      ],
      "execution_count": 0,
      "outputs": []
    },
    {
      "metadata": {
        "id": "17s9G1puZk0e",
        "colab_type": "code",
        "outputId": "63052781-3870-4dfc-93a4-6ec684fab830",
        "colab": {
          "base_uri": "https://localhost:8080/",
          "height": 353
        }
      },
      "cell_type": "code",
      "source": [
        "for i, (xs, ys) in enumerate(tfe.Iterator(data)):\n",
        "  loss, grads = loss_and_grads(xs, ys)\n",
        "  print(\"Iteration %d: loss = %s\" % (i, loss.numpy()))\n",
        "  \n",
        "  optimizer.apply_gradients(grads)"
      ],
      "execution_count": 0,
      "outputs": [
        {
          "output_type": "stream",
          "text": [
            "Iteration 0: loss = 26.094215\n",
            "Iteration 1: loss = 12.233289\n",
            "Iteration 2: loss = 10.095221\n",
            "Iteration 3: loss = 11.4293165\n",
            "Iteration 4: loss = 5.6117835\n",
            "Iteration 5: loss = 6.0150127\n",
            "Iteration 6: loss = 3.2144234\n",
            "Iteration 7: loss = 2.397113\n",
            "Iteration 8: loss = 1.4619782\n",
            "Iteration 9: loss = 0.8915719\n",
            "Iteration 10: loss = 0.43009764\n",
            "Iteration 11: loss = 1.1105876\n",
            "Iteration 12: loss = 0.66838795\n",
            "Iteration 13: loss = 0.32206523\n",
            "Iteration 14: loss = 0.22130188\n",
            "Iteration 15: loss = 0.4471932\n",
            "Iteration 16: loss = 1.263875\n",
            "Iteration 17: loss = 0.8236362\n",
            "Iteration 18: loss = 0.8474743\n",
            "Iteration 19: loss = 0.8903562\n"
          ],
          "name": "stdout"
        }
      ]
    },
    {
      "metadata": {
        "id": "nxY6CGtLNo79",
        "colab_type": "code",
        "outputId": "80a7af12-f41d-412f-f477-d4e732636680",
        "colab": {
          "base_uri": "https://localhost:8080/",
          "height": 118
        }
      },
      "cell_type": "code",
      "source": [
        "print(\"Model Weight After Training \\n {}\".format(model.variables[0].numpy()))\n",
        "\n",
        "print(\"Model Bias After Training \\n {}\".format(model.variables[1].numpy()))"
      ],
      "execution_count": 0,
      "outputs": [
        {
          "output_type": "stream",
          "text": [
            "Model Weight After Training \n",
            " [[-2.0070481 ]\n",
            " [ 3.9331315 ]\n",
            " [ 0.98577815]]\n",
            "Model Bias After Training \n",
            " [0.12417183]\n"
          ],
          "name": "stdout"
        }
      ]
    },
    {
      "metadata": {
        "id": "K3C4YmGU07NL",
        "colab_type": "text"
      },
      "cell_type": "markdown",
      "source": [
        "***This is a later approach - Do functional approach first***\n",
        "\n",
        "Since tensorflow uses keras model out of the box, hence our model will use the keras way of building custom models.\n",
        "\n",
        "Hence we can structure our codes in a more organized approach.\n",
        "\n",
        "\n",
        "There are basic 3 components for your custom model when using Tensorflow Eager Execution:\n",
        "\n",
        "\n",
        "* init Method: Define your various networks.\n",
        "* call method: Invokes the model, this is where the layer logic all resides. Most times, the sequential approach to modelling Keras models actually happen here.\n",
        "* fit method: Method fit assembled model on data.\n",
        "* predict method: Method predicts on new data, same as call, but keras Model subclassing requires that you implement call.\n",
        "\n",
        "***Other Utility Functions***\n",
        "\n",
        "* Save model method\n",
        "* compute_accuracy\n",
        "* restore_model\n"
      ]
    },
    {
      "metadata": {
        "id": "G9Cdecc8zk3J",
        "colab_type": "code",
        "colab": {}
      },
      "cell_type": "code",
      "source": [
        "class LinearRegressionModel(tf.keras.Model):\n",
        "  \n",
        "  def __init__(self):\n",
        "    super(LinearRegressionModel, self).__init__()\n",
        "    \n",
        "    #Construct a single dense layer which is actually a linear layer.\n",
        "    self._layer = layers.Dense(1) #Creates model as seen above\n",
        "    \n",
        "    \n",
        "  def call(self, xs):\n",
        "    \n",
        "    return self._layer(xs) # check up it's same thing as model(xs)\n",
        "  \n",
        "  \n",
        "  \n",
        "  \n",
        "def fit(model, dataset, optimizer, verbose=False, logdir=None):\n",
        "\n",
        "  ''' Defines the model activity on a dataset\n",
        "\n",
        "  Args:\n",
        "\n",
        "    model: A Tensorflow-Keras to fit\n",
        "    dataset: the tf.data.Dataset to use as training data\n",
        "    optimizer: The tensorflow optimizer to be used for model update\n",
        "  '''\n",
        "\n",
        "  #Check out the use of self.call here\n",
        "  mse = lambda xs, ys: tf.reduce_mean(tf.square(tf.subtract(model(xs), ys)))\n",
        "  loss_and_grads = tfe.implicit_value_and_gradients(mse)\n",
        "\n",
        "\n",
        "  '''Make Summary Writer'''\n",
        "  if logdir:\n",
        "    summary_writer = tf.contrib.summary.create_file_writer(logdir)\n",
        "\n",
        "\n",
        "  '''Train and get loss and grads on dataset'''\n",
        "  for i, (xs, ys) in enumerate(tfe.Iterator(dataset)):\n",
        "    loss, grads = loss_and_grads(xs, ys)\n",
        "\n",
        "    if verbose:\n",
        "      print(\"Iteration %d: loss = %s\" % (i, loss.numpy()))\n",
        "\n",
        "    '''Apply optimizer on gradients for every run over the dataset'''\n",
        "    optimizer.apply_gradients(grads)\n",
        "\n",
        "\n",
        "    '''Write to summary-writer'''\n",
        "    if logdir:\n",
        "      with summary_writer.as_default():\n",
        "        with tf.contrib.summary.always_record_summaries():\n",
        "          tf.contrib.summary.scala(\"loss\", loss, step=i)\n",
        "          tf.contrib.summary.scala(\"step\", i, step= i)"
      ],
      "execution_count": 0,
      "outputs": []
    },
    {
      "metadata": {
        "id": "XNXPEmOydiPc",
        "colab_type": "code",
        "colab": {}
      },
      "cell_type": "code",
      "source": [
        "optimizer = tf.train.GradientDescentOptimizer(learning_rate)"
      ],
      "execution_count": 0,
      "outputs": []
    },
    {
      "metadata": {
        "id": "vC0VcCI20nHY",
        "colab_type": "code",
        "outputId": "71a449bf-9436-4743-f55f-80835bc38f53",
        "colab": {
          "base_uri": "https://localhost:8080/",
          "height": 353
        }
      },
      "cell_type": "code",
      "source": [
        "model = LinearRegressionModel()\n",
        "fit(model, data, optimizer,True)"
      ],
      "execution_count": 0,
      "outputs": [
        {
          "output_type": "stream",
          "text": [
            "Iteration 0: loss = 41.38832\n",
            "Iteration 1: loss = 16.406015\n",
            "Iteration 2: loss = 10.869165\n",
            "Iteration 3: loss = 17.738844\n",
            "Iteration 4: loss = 3.0250764\n",
            "Iteration 5: loss = 2.1878157\n",
            "Iteration 6: loss = 1.2366109\n",
            "Iteration 7: loss = 0.871888\n",
            "Iteration 8: loss = 0.60339653\n",
            "Iteration 9: loss = 2.1640959\n",
            "Iteration 10: loss = 0.77372444\n",
            "Iteration 11: loss = 0.8446425\n",
            "Iteration 12: loss = 0.15529142\n",
            "Iteration 13: loss = 0.15771008\n",
            "Iteration 14: loss = 2.320445\n",
            "Iteration 15: loss = 0.4848066\n",
            "Iteration 16: loss = 2.276996\n",
            "Iteration 17: loss = 0.19357428\n",
            "Iteration 18: loss = 0.14999917\n",
            "Iteration 19: loss = 1.9393296\n"
          ],
          "name": "stdout"
        }
      ]
    },
    {
      "metadata": {
        "id": "C8swxe2-yGOU",
        "colab_type": "text"
      },
      "cell_type": "markdown",
      "source": [
        "Further more, if you want to go the old keras way, you can extract your data as numpy array do a `model.compile` on your Custom Model, then do a `model.fit`.\n",
        "\n",
        "Tensorflow standard approach is to build your custom model with only the `call` function and then use other functions to either save the model, run the fit model and many other things you might want to do with the model."
      ]
    },
    {
      "metadata": {
        "id": "gKQ6penhi2xM",
        "colab_type": "code",
        "colab": {}
      },
      "cell_type": "code",
      "source": [
        ""
      ],
      "execution_count": 0,
      "outputs": []
    },
    {
      "metadata": {
        "id": "n761D4fgoArF",
        "colab_type": "code",
        "colab": {}
      },
      "cell_type": "code",
      "source": [
        "from sklearn.datasets import make_moons\n",
        "import numpy as np\n",
        "\n",
        "\n",
        "X, y = make_moons(n_samples=100, noise=0.1, random_state=2018)"
      ],
      "execution_count": 0,
      "outputs": []
    },
    {
      "metadata": {
        "id": "4VamanFdoBuQ",
        "colab_type": "code",
        "outputId": "622ed297-b7d3-4711-cd22-d922f5acaad5",
        "colab": {
          "base_uri": "https://localhost:8080/",
          "height": 1714
        }
      },
      "cell_type": "code",
      "source": [
        " tf.constant(X)"
      ],
      "execution_count": 0,
      "outputs": [
        {
          "output_type": "execute_result",
          "data": {
            "text/plain": [
              "<tf.Tensor: id=1, shape=(100, 2), dtype=float64, numpy=\n",
              "array([[ 1.77190359e-01,  7.46478326e-02],\n",
              "       [ 1.01924195e+00,  3.98295353e-01],\n",
              "       [ 1.81463750e+00,  6.90291309e-02],\n",
              "       [-7.66548767e-01,  4.08949954e-01],\n",
              "       [ 1.94298358e+00,  1.83284645e-01],\n",
              "       [-6.11728497e-01,  8.49077927e-01],\n",
              "       [ 5.83747133e-01,  8.77707116e-01],\n",
              "       [ 1.58144580e-02,  2.43299815e-01],\n",
              "       [ 2.91769822e-02,  5.38482295e-01],\n",
              "       [ 1.18874861e+00,  6.91382429e-02],\n",
              "       [ 1.21413031e+00, -4.73840709e-01],\n",
              "       [-6.37130161e-01,  6.41576418e-01],\n",
              "       [ 1.10865115e+00,  4.28466554e-01],\n",
              "       [ 2.49046492e-01, -2.65682656e-01],\n",
              "       [ 8.67971835e-01, -6.39420726e-01],\n",
              "       [ 2.03199442e+00,  3.50406817e-01],\n",
              "       [ 8.55375327e-02,  5.44524908e-01],\n",
              "       [ 1.99874540e+00,  6.12304969e-01],\n",
              "       [ 5.71342365e-01, -2.84712726e-01],\n",
              "       [-9.75279446e-01,  5.15445098e-01],\n",
              "       [ 2.10165156e+00,  2.55667917e-01],\n",
              "       [ 8.36251588e-02,  9.76239529e-01],\n",
              "       [ 8.16180650e-01,  6.92627740e-01],\n",
              "       [ 3.57808617e-01, -3.92069672e-01],\n",
              "       [ 4.91356970e-01, -4.71197561e-01],\n",
              "       [ 2.81149455e-01,  9.16799006e-01],\n",
              "       [-3.81273966e-01,  8.75519830e-01],\n",
              "       [-4.08510147e-01,  8.29233945e-01],\n",
              "       [ 9.08537401e-01, -4.31981024e-01],\n",
              "       [ 5.47591375e-01,  8.33897543e-01],\n",
              "       [-8.62213861e-01,  6.60426806e-02],\n",
              "       [ 2.00989953e-01,  3.91517460e-01],\n",
              "       [ 1.38175247e+00, -4.42449104e-01],\n",
              "       [ 4.22659716e-01,  8.65668924e-01],\n",
              "       [ 1.48742716e-01,  1.13742556e+00],\n",
              "       [ 7.84904063e-01,  5.79741133e-01],\n",
              "       [ 4.46067812e-03,  1.03056614e+00],\n",
              "       [-9.08338543e-01,  3.31594672e-01],\n",
              "       [ 1.17543335e-01,  1.54440439e-01],\n",
              "       [-8.90839798e-01,  6.25402695e-01],\n",
              "       [ 2.05082593e-01, -2.78738191e-01],\n",
              "       [ 1.92962828e+00, -9.06827596e-02],\n",
              "       [ 1.86152698e+00,  6.82766386e-02],\n",
              "       [ 2.45134621e-02,  2.06426688e-01],\n",
              "       [-1.52814706e-03,  5.73503420e-01],\n",
              "       [ 7.03858713e-01,  8.79113143e-01],\n",
              "       [ 1.07544267e+00, -1.12541583e-02],\n",
              "       [ 2.60571726e-01,  8.15869873e-01],\n",
              "       [ 7.30766518e-01,  4.20107239e-01],\n",
              "       [ 3.40320724e-01,  8.22378754e-01],\n",
              "       [ 8.11899317e-01, -1.83237056e-02],\n",
              "       [-4.93267413e-01,  8.50639513e-01],\n",
              "       [ 8.28502387e-01,  5.82465201e-01],\n",
              "       [ 9.11742447e-01, -4.98897155e-01],\n",
              "       [-7.27981996e-01,  7.54221764e-01],\n",
              "       [ 1.53540908e+00, -5.37330269e-01],\n",
              "       [-7.94271958e-01,  6.64638104e-01],\n",
              "       [ 1.59764747e-01, -1.75417306e-02],\n",
              "       [ 1.00467198e+00, -5.63623732e-01],\n",
              "       [-1.02751764e+00,  2.75138782e-02],\n",
              "       [ 3.64237432e-01, -2.17722117e-01],\n",
              "       [ 6.05225584e-01, -2.75369267e-01],\n",
              "       [-1.02540553e+00,  4.30633692e-01],\n",
              "       [ 4.33744178e-01, -3.24146741e-01],\n",
              "       [ 5.56376047e-01,  8.52402966e-01],\n",
              "       [ 7.82704382e-01, -5.23319110e-01],\n",
              "       [-9.03229594e-01,  2.08857660e-01],\n",
              "       [ 1.25972185e+00, -4.69057970e-01],\n",
              "       [ 1.26568139e+00, -5.64904057e-01],\n",
              "       [ 1.71097409e+00, -2.17609320e-01],\n",
              "       [ 8.44842209e-01, -4.49313498e-01],\n",
              "       [ 1.73385270e+00, -2.67544838e-01],\n",
              "       [-4.80547325e-01,  7.23399637e-01],\n",
              "       [ 1.41462730e+00, -1.67405177e-01],\n",
              "       [ 6.48054510e-01, -4.82636018e-01],\n",
              "       [-8.30062316e-01,  4.63747123e-01],\n",
              "       [ 2.45331176e-01,  4.33535738e-01],\n",
              "       [ 1.03522012e+00, -6.63699847e-01],\n",
              "       [-7.05414763e-01,  5.91377105e-01],\n",
              "       [-2.14720558e-01,  1.01082235e+00],\n",
              "       [ 8.54033816e-01,  1.74945956e-01],\n",
              "       [ 1.42051701e+00, -4.12023830e-01],\n",
              "       [-7.53210174e-01,  4.06533994e-01],\n",
              "       [ 1.90049756e+00,  1.64748705e-01],\n",
              "       [ 6.92846552e-02,  8.63470215e-01],\n",
              "       [-3.74042351e-01,  1.01336793e+00],\n",
              "       [ 1.79088054e-01, -1.90193955e-01],\n",
              "       [ 1.88491720e+00,  5.85282545e-02],\n",
              "       [ 1.72973581e+00, -2.92876080e-02],\n",
              "       [-9.64649724e-01,  5.41902518e-02],\n",
              "       [ 1.02244711e+00, -3.71378074e-01],\n",
              "       [ 1.89799652e+00, -1.01351094e-01],\n",
              "       [ 1.90838582e+00,  1.41129509e-01],\n",
              "       [ 2.42387977e-02,  8.30868495e-01],\n",
              "       [ 8.53241501e-01,  3.83254064e-01],\n",
              "       [ 3.28424477e-01,  8.94247166e-01],\n",
              "       [-3.85692244e-01,  1.09265918e+00],\n",
              "       [ 1.49633175e-01,  8.74216613e-01],\n",
              "       [ 8.30495930e-01,  5.70331232e-01],\n",
              "       [ 1.98865565e+00,  2.45715713e-01]])>"
            ]
          },
          "metadata": {
            "tags": []
          },
          "execution_count": 6
        }
      ]
    },
    {
      "metadata": {
        "id": "M-nrxDBSoJrv",
        "colab_type": "code",
        "colab": {}
      },
      "cell_type": "code",
      "source": [
        ""
      ],
      "execution_count": 0,
      "outputs": []
    }
  ]
}